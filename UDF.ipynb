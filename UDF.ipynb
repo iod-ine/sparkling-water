{
 "cells": [
  {
   "cell_type": "markdown",
   "id": "b68084ae-6c81-4113-86cf-e9a3192c6815",
   "metadata": {},
   "source": [
    "# UDF: user defined functions\n",
    "\n",
    "- User-defined functions are a way to bring the flexibility of the RDD to the data frame. They mimic the `.map()` part of working with RDDs.\n",
    "- `@F.udf(f, returnType)` decorator will promote a Python function to work on columns of a data frame like other funtions from `F`.\n",
    "- The original Python function is accessible through the `.func` attribute of a UDF."
   ]
  },
  {
   "cell_type": "code",
   "execution_count": 1,
   "id": "1103f5bc-53a3-43ae-9b0c-ee5cb6a2c3a5",
   "metadata": {},
   "outputs": [],
   "source": [
    "import pyspark.sql.functions as F\n",
    "from pyspark.sql import SparkSession"
   ]
  },
  {
   "cell_type": "code",
   "execution_count": 3,
   "id": "64939568-2af9-4ea9-a54a-3a57493239bb",
   "metadata": {},
   "outputs": [],
   "source": [
    "spark = SparkSession.builder.appName(\"UDF\").getOrCreate()\n",
    "spark.sparkContext.setLogLevel(\"ERROR\")"
   ]
  },
  {
   "cell_type": "code",
   "execution_count": null,
   "id": "c27124ba-f7f7-43c1-bb9a-108a3189c3d9",
   "metadata": {},
   "outputs": [],
   "source": []
  }
 ],
 "metadata": {
  "kernelspec": {
   "display_name": "Spark",
   "language": "python",
   "name": "spark"
  },
  "language_info": {
   "codemirror_mode": {
    "name": "ipython",
    "version": 3
   },
   "file_extension": ".py",
   "mimetype": "text/x-python",
   "name": "python",
   "nbconvert_exporter": "python",
   "pygments_lexer": "ipython3",
   "version": "3.10.6"
  }
 },
 "nbformat": 4,
 "nbformat_minor": 5
}
