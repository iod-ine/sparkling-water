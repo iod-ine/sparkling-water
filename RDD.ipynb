{
 "cells": [
  {
   "cell_type": "markdown",
   "id": "83dd8766-079f-4d16-9d69-0f56589a2629",
   "metadata": {},
   "source": [
    "# RDD: resilient distributed dataset\n",
    "\n",
    "- RDD is an unordered collection of independent objects. Unlike the data frame, there is no forced structure.\n",
    "- RDDs provide ultimate flexibility and can be used when the provided data frame functionality is not enogh.\n",
    "- The methods and functions to work with RDDs are under the `SparkContext` object.\n",
    "- The most important functions for manipulating RDDs are `.map()`, `.filter()`, and `.reduce()`.\n",
    "- Functions passed to `.reduce()` have to be associative and commutative.\n",
    "- Standard library `operator` package is useful.\n",
    "- `rdd.collect()` will fetch a list of object in the RDD.\n",
    "- `df.rdd` holds the underling RDD representation of a data frame where each element is a `F.Row`, similar to a dictionary with columns as keys."
   ]
  },
  {
   "cell_type": "code",
   "execution_count": 1,
   "id": "440a70b2-2382-4f0e-8487-64e9de88c39f",
   "metadata": {},
   "outputs": [],
   "source": [
    "import pyspark.sql.functions as F\n",
    "from pyspark.sql import SparkSession"
   ]
  },
  {
   "cell_type": "code",
   "execution_count": 3,
   "id": "4d765053-2b00-4d64-9a3f-78854090bf5e",
   "metadata": {},
   "outputs": [],
   "source": [
    "spark = SparkSession.builder.appName(\"RDD\").getOrCreate()\n",
    "spark.sparkContext.setLogLevel(\"ERROR\")"
   ]
  },
  {
   "cell_type": "code",
   "execution_count": null,
   "id": "f7228b8b-d997-47b0-ad7f-5a28c76126ca",
   "metadata": {},
   "outputs": [],
   "source": []
  }
 ],
 "metadata": {
  "kernelspec": {
   "display_name": "Spark",
   "language": "python",
   "name": "spark"
  },
  "language_info": {
   "codemirror_mode": {
    "name": "ipython",
    "version": 3
   },
   "file_extension": ".py",
   "mimetype": "text/x-python",
   "name": "python",
   "nbconvert_exporter": "python",
   "pygments_lexer": "ipython3",
   "version": "3.10.6"
  }
 },
 "nbformat": 4,
 "nbformat_minor": 5
}
