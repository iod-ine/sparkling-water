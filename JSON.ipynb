{
 "cells": [
  {
   "cell_type": "markdown",
   "id": "c5b2bad7-ce57-458c-9bba-46b467737b87",
   "metadata": {},
   "source": [
    "# Working with JSON\n",
    "\n",
    "- `spark.read.json()` will ingest JSON files. By default, in one file each line is a separate record, and the objects within are not allowed to contain newlines.\n",
    "- `multiLine=True` option allows for multiple JSON files to be ingested as separate records.\n",
    "- `import pyspark.sql.types as T`\n",
    "- A predefined schema allows for partial reading of the data.\n",
    "- `mode=\"FAILFAST\"` will make the reader fail if the data does not fit the predefined schema (the defaut is `\"PERMISSIVE\"` which sets the missing values to nulls).\n",
    "- A predefined schema can be specifed as a JSON using `T.StructType.fromJson()`.\n",
    "- `df.schema.json()` will return the schema as a JSON string; `df.jsonValue()` will return it as a Python dictionary."
   ]
  },
  {
   "cell_type": "code",
   "execution_count": 1,
   "id": "ede806a3-65c4-4cf8-a859-3f1ecded079b",
   "metadata": {},
   "outputs": [],
   "source": [
    "import pyspark.sql.functions as F\n",
    "from pyspark.sql import SparkSession"
   ]
  },
  {
   "cell_type": "code",
   "execution_count": 3,
   "id": "554bbbf9-48e9-4d84-bb2c-52dbe32acc61",
   "metadata": {},
   "outputs": [],
   "source": [
    "spark = SparkSession.builder.appName(\"JSON\").getOrCreate()\n",
    "spark.sparkContext.setLogLevel(\"ERROR\")"
   ]
  },
  {
   "cell_type": "code",
   "execution_count": null,
   "id": "1066d666-4f95-4f01-adaa-05b79c02ce6a",
   "metadata": {},
   "outputs": [],
   "source": []
  }
 ],
 "metadata": {
  "kernelspec": {
   "display_name": "Spark",
   "language": "python",
   "name": "spark"
  },
  "language_info": {
   "codemirror_mode": {
    "name": "ipython",
    "version": 3
   },
   "file_extension": ".py",
   "mimetype": "text/x-python",
   "name": "python",
   "nbconvert_exporter": "python",
   "pygments_lexer": "ipython3",
   "version": "3.10.6"
  }
 },
 "nbformat": 4,
 "nbformat_minor": 5
}
