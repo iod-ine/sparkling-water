{
 "cells": [
  {
   "cell_type": "markdown",
   "id": "07c447e1-817d-4f1e-8ffc-803ad951eb04",
   "metadata": {},
   "source": [
    "# Working with text\n",
    "\n",
    "In this notebook:\n",
    "- Reading multiple text files into a data frame.\n",
    "- Processing the text to calculate occurances of unique words.\n",
    "- Filtering words by length and displaying $N$ most common ones."
   ]
  },
  {
   "cell_type": "code",
   "execution_count": 1,
   "id": "c049c2c0-b4d0-420c-969f-66d3ef2f5511",
   "metadata": {},
   "outputs": [],
   "source": [
    "import pyspark.sql.functions as F\n",
    "from pyspark.sql import SparkSession"
   ]
  },
  {
   "cell_type": "code",
   "execution_count": 3,
   "id": "bd71732e-a672-490e-8a95-6f4cdcedeac3",
   "metadata": {},
   "outputs": [],
   "source": [
    "spark = SparkSession.builder.appName(\"Text\").getOrCreate()\n",
    "spark.sparkContext.setLogLevel(\"ERROR\")"
   ]
  },
  {
   "cell_type": "code",
   "execution_count": 4,
   "id": "8a368778-1ec7-4e94-bd1b-f5abedac9b9f",
   "metadata": {},
   "outputs": [
    {
     "data": {
      "text/html": [
       "\n",
       "            <div>\n",
       "                <p><b>SparkSession - in-memory</b></p>\n",
       "                \n",
       "        <div>\n",
       "            <p><b>SparkContext</b></p>\n",
       "\n",
       "            <p><a href=\"http://loki:4040\">Spark UI</a></p>\n",
       "\n",
       "            <dl>\n",
       "              <dt>Version</dt>\n",
       "                <dd><code>v3.3.1</code></dd>\n",
       "              <dt>Master</dt>\n",
       "                <dd><code>local[*]</code></dd>\n",
       "              <dt>AppName</dt>\n",
       "                <dd><code>Text</code></dd>\n",
       "            </dl>\n",
       "        </div>\n",
       "        \n",
       "            </div>\n",
       "        "
      ],
      "text/plain": [
       "<pyspark.sql.session.SparkSession at 0x7f5558703be0>"
      ]
     },
     "execution_count": 4,
     "metadata": {},
     "output_type": "execute_result"
    }
   ],
   "source": [
    "spark"
   ]
  },
  {
   "cell_type": "markdown",
   "id": "906c578a-2369-4b7b-bd46-3a1fe58be523",
   "metadata": {},
   "source": [
    "---"
   ]
  },
  {
   "cell_type": "code",
   "execution_count": 5,
   "id": "c18435f7-451d-4b9f-b8dc-bfcf73fded19",
   "metadata": {},
   "outputs": [
    {
     "name": "stdout",
     "output_type": "stream",
     "text": [
      "root\n",
      " |-- value: string (nullable = true)\n",
      "\n"
     ]
    },
    {
     "data": {
      "text/plain": [
       "77910"
      ]
     },
     "execution_count": 5,
     "metadata": {},
     "output_type": "execute_result"
    }
   ],
   "source": [
    "raw_books = spark.read.text(\"data/gutenberg_books/\")\n",
    "raw_books.printSchema()\n",
    "raw_books.count()"
   ]
  },
  {
   "cell_type": "code",
   "execution_count": 6,
   "id": "4baf90ce-12e8-405f-9b29-b0f8e5a8e960",
   "metadata": {},
   "outputs": [
    {
     "name": "stdout",
     "output_type": "stream",
     "text": [
      "+-----------------------------------------------------------------------+\n",
      "|                                                                  value|\n",
      "+-----------------------------------------------------------------------+\n",
      "|                                                                       |\n",
      "|      The Project Gutenberg EBook of Moby Dick; or The Whale, by Herman|\n",
      "|                                                               Melville|\n",
      "|                                                                       |\n",
      "|This eBook is for the use of anyone anywhere at no cost and with almost|\n",
      "|no restrictions whatsoever.  You may copy it, give it away or re-use it|\n",
      "|    under the terms of the Project Gutenberg License included with this|\n",
      "|                                   eBook or online at www.gutenberg.org|\n",
      "|                                                                       |\n",
      "|                                                                       |\n",
      "+-----------------------------------------------------------------------+\n",
      "only showing top 10 rows\n",
      "\n"
     ]
    }
   ],
   "source": [
    "raw_books.show(n=10, truncate=88)"
   ]
  },
  {
   "cell_type": "code",
   "execution_count": 7,
   "id": "dd2bc88f-f651-4f29-a3bf-d5247449efdc",
   "metadata": {},
   "outputs": [
    {
     "name": "stdout",
     "output_type": "stream",
     "text": [
      "+---------------------------------------------------------------------------------------+\n",
      "|                                                                    split(value,  , -1)|\n",
      "+---------------------------------------------------------------------------------------+\n",
      "|                                                                                     []|\n",
      "|         [The, Project, Gutenberg, EBook, of, Moby, Dick;, or, The, Whale,, by, Herman]|\n",
      "|                                                                             [Melville]|\n",
      "|                                                                                     []|\n",
      "|[This, eBook, is, for, the, use, of, anyone, anywhere, at, no, cost, and, with, almost]|\n",
      "| [no, restrictions, whatsoever., , You, may, copy, it,, give, it, away, or, re-use, it]|\n",
      "|        [under, the, terms, of, the, Project, Gutenberg, License, included, with, this]|\n",
      "|                                             [eBook, or, online, at, www.gutenberg.org]|\n",
      "|                                                                                     []|\n",
      "|                                                                                     []|\n",
      "+---------------------------------------------------------------------------------------+\n",
      "only showing top 10 rows\n",
      "\n"
     ]
    }
   ],
   "source": [
    "raw_books.select(F.split(\"value\", pattern=\" \")).show(n=10, truncate=88)"
   ]
  },
  {
   "cell_type": "code",
   "execution_count": 8,
   "id": "ee46be07-cd02-4bee-998a-cde967aeb2a4",
   "metadata": {},
   "outputs": [
    {
     "name": "stdout",
     "output_type": "stream",
     "text": [
      "root\n",
      " |-- word: string (nullable = false)\n",
      " |-- count: long (nullable = false)\n",
      "\n"
     ]
    }
   ],
   "source": [
    "word_count = (\n",
    "    raw_books.select(F.split(\"value\", pattern=\" \").alias(\"words_arr\"))\n",
    "    .select(F.explode(\"words_arr\").alias(\"word\"))\n",
    "    .select(F.lower(\"word\").alias(\"word\"))\n",
    "    .select(F.regexp_extract(\"word\", pattern=\"[a-z]*\", idx=0).alias(\"word\"))\n",
    "    .filter(F.col(\"word\") != \"\")\n",
    "    .groupby(\"word\")\n",
    "    .count()\n",
    ")\n",
    "\n",
    "word_count.printSchema()"
   ]
  },
  {
   "cell_type": "code",
   "execution_count": 9,
   "id": "5003e521-1d99-4de6-9102-dc640ca2d814",
   "metadata": {},
   "outputs": [
    {
     "name": "stdout",
     "output_type": "stream",
     "text": [
      "+---------+-----+\n",
      "|     word|count|\n",
      "+---------+-----+\n",
      "|   before| 1275|\n",
      "|   little| 1208|\n",
      "|   should| 1110|\n",
      "|elizabeth|  721|\n",
      "|  without|  680|\n",
      "|   though|  672|\n",
      "|  thought|  630|\n",
      "|   myself|  594|\n",
      "|   seemed|  566|\n",
      "|  nothing|  557|\n",
      "|  herself|  549|\n",
      "|gutenberg|  527|\n",
      "|  himself|  519|\n",
      "|  through|  510|\n",
      "|  project|  502|\n",
      "|   holmes|  460|\n",
      "|   almost|  458|\n",
      "|delicious|  453|\n",
      "|  between|  446|\n",
      "|  however|  445|\n",
      "+---------+-----+\n",
      "only showing top 20 rows\n",
      "\n"
     ]
    },
    {
     "name": "stderr",
     "output_type": "stream",
     "text": [
      "                                                                                \r"
     ]
    }
   ],
   "source": [
    "longest_most_common_words = word_count.filter(F.length(\"word\") > 5).orderBy(\n",
    "    \"count\", ascending=False\n",
    ")\n",
    "\n",
    "longest_most_common_words.show(n=20, truncate=88)"
   ]
  },
  {
   "cell_type": "code",
   "execution_count": 10,
   "id": "585ba32d-218b-4cca-b942-e28a2f2abf59",
   "metadata": {},
   "outputs": [
    {
     "name": "stdout",
     "output_type": "stream",
     "text": [
      "root\n",
      " |-- fl: string (nullable = false)\n",
      " |-- count: long (nullable = true)\n",
      "\n"
     ]
    }
   ],
   "source": [
    "first_letter_count = (\n",
    "    word_count.filter(F.length(\"word\") > 1)\n",
    "    .select(F.substring(\"word\", pos=0, len=1).alias(\"fl\"), \"count\")\n",
    "    .groupby(\"fl\")\n",
    "    .agg(F.sum(\"count\").alias(\"count\"))\n",
    ")\n",
    "\n",
    "first_letter_count.printSchema()"
   ]
  },
  {
   "cell_type": "code",
   "execution_count": 11,
   "id": "42a8233b-9d29-477b-ba05-1d0aa3954d87",
   "metadata": {},
   "outputs": [
    {
     "name": "stdout",
     "output_type": "stream",
     "text": [
      "+---+-----+\n",
      "| fl|count|\n",
      "+---+-----+\n",
      "|  x|   10|\n",
      "|  z|   47|\n",
      "|  q| 2018|\n",
      "|  j| 2535|\n",
      "|  k| 3703|\n",
      "|  v| 5214|\n",
      "|  u| 9240|\n",
      "+---+-----+\n",
      "only showing top 7 rows\n",
      "\n"
     ]
    }
   ],
   "source": [
    "first_letter_count.orderBy(\"count\").show(n=7)"
   ]
  },
  {
   "cell_type": "code",
   "execution_count": 12,
   "id": "33fb72a5-6308-48f1-a3e7-88b0de31ae84",
   "metadata": {},
   "outputs": [
    {
     "name": "stdout",
     "output_type": "stream",
     "text": [
      "+------+-----+\n",
      "|  word|count|\n",
      "+------+-----+\n",
      "| xxxix|    1|\n",
      "|   xvi|    1|\n",
      "|xerxes|    2|\n",
      "|    xi|    3|\n",
      "|   xii|    3|\n",
      "+------+-----+\n",
      "\n"
     ]
    }
   ],
   "source": [
    "word_count.filter(F.substring(\"word\", pos=0, len=1) == \"x\").filter(\n",
    "    F.length(\"word\") > 1\n",
    ").show(n=20)"
   ]
  },
  {
   "cell_type": "code",
   "execution_count": 13,
   "id": "e65225e1-c73a-4b8d-94a4-6c20048469a8",
   "metadata": {},
   "outputs": [
    {
     "name": "stdout",
     "output_type": "stream",
     "text": [
      "+----------+-----+\n",
      "|      word|count|\n",
      "+----------+-----+\n",
      "|       zig|    1|\n",
      "| zoroaster|    1|\n",
      "| zeuglodon|    1|\n",
      "|      zeal|    6|\n",
      "|zealanders|    1|\n",
      "|   zealand|    9|\n",
      "|   zoology|    2|\n",
      "|     zones|    3|\n",
      "|      zone|    5|\n",
      "|    zephyr|    1|\n",
      "|  zogranda|    1|\n",
      "|    zodiac|    5|\n",
      "|       zay|    1|\n",
      "|     zoned|    2|\n",
      "|    zigzag|    3|\n",
      "|      zest|    3|\n",
      "|      zero|    2|\n",
      "+----------+-----+\n",
      "\n"
     ]
    }
   ],
   "source": [
    "word_count.filter(F.substring(\"word\", pos=0, len=1) == \"z\").show(n=20)"
   ]
  },
  {
   "cell_type": "code",
   "execution_count": 14,
   "id": "baccbe40-5d23-4f7a-a0a4-84f787b16525",
   "metadata": {},
   "outputs": [
    {
     "name": "stdout",
     "output_type": "stream",
     "text": [
      "+---+------+\n",
      "| fl| count|\n",
      "+---+------+\n",
      "|  t|106609|\n",
      "|  a| 68835|\n",
      "|  s| 55688|\n",
      "|  h| 52504|\n",
      "|  w| 52335|\n",
      "|  o| 45164|\n",
      "|  i| 40028|\n",
      "+---+------+\n",
      "only showing top 7 rows\n",
      "\n"
     ]
    }
   ],
   "source": [
    "first_letter_count.orderBy(\"count\", ascending=False).show(n=7)"
   ]
  },
  {
   "cell_type": "code",
   "execution_count": null,
   "id": "bcb34eb4-3cf1-4e54-9e78-bbde7f6d150a",
   "metadata": {},
   "outputs": [],
   "source": []
  }
 ],
 "metadata": {
  "kernelspec": {
   "display_name": "Spark",
   "language": "python",
   "name": "spark"
  },
  "language_info": {
   "codemirror_mode": {
    "name": "ipython",
    "version": 3
   },
   "file_extension": ".py",
   "mimetype": "text/x-python",
   "name": "python",
   "nbconvert_exporter": "python",
   "pygments_lexer": "ipython3",
   "version": "3.10.6"
  }
 },
 "nbformat": 4,
 "nbformat_minor": 5
}
